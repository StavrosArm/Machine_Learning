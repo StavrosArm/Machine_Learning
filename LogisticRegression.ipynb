{
 "cells": [
  {
   "cell_type": "code",
   "execution_count": 1,
   "metadata": {},
   "outputs": [],
   "source": [
    "import numpy as np\n",
    "import matplotlib.pyplot as plt\n",
    "from sklearn.datasets import load_iris\n",
    "from sklearn.model_selection import train_test_split\n",
    "from sklearn.linear_model import LogisticRegression"
   ]
  },
  {
   "cell_type": "code",
   "execution_count": 2,
   "metadata": {},
   "outputs": [
    {
     "name": "stdout",
     "output_type": "stream",
     "text": [
      "Shape of feature matrix (X): (150, 4)\n",
      "Shape of target matrix (Y): (150,)\n"
     ]
    }
   ],
   "source": [
    "# Load the dataset.\n",
    "iris = load_iris()\n",
    "X = iris.data\n",
    "Y = iris.target\n",
    "\n",
    "# Split in training and testing data.\n",
    "X_train, X_test, Y_train, Y_test = train_test_split(X, Y, test_size=0.2, shuffle=True)\n",
    "\n",
    "# Normalize the data, based on the training set.\n",
    "X_train_mean = np.mean(X_train, axis=0)\n",
    "X_train_std = np.std(X_train, axis= 0)\n",
    "X_train = (X_train - X_train_mean) / X_train_std\n",
    "\n",
    "# Also normalize the test set.\n",
    "X_test = (X_test - X_train_mean) / X_train_std\n",
    "\n",
    "# Save copies of the data to use with the Scikit-learn implementation.\n",
    "ori_X_train = X_train.copy()\n",
    "ori_X_test = X_test.copy()\n",
    "ori_Y_train = Y_train.copy()\n",
    "ori_Y_test = Y_test.copy()\n",
    "\n",
    "print(f\"Shape of feature matrix (X): {X.shape}\")\n",
    "print(f\"Shape of target matrix (Y): {Y.shape}\")"
   ]
  },
  {
   "cell_type": "code",
   "execution_count": 3,
   "metadata": {},
   "outputs": [],
   "source": [
    "# Add a column to the feature matrix for the bias terms.\n",
    "X_train = np.hstack([np.ones((X_train.shape[0], 1)), X_train])\n",
    "X_test = np.hstack([np.ones((X_test.shape[0], 1)), X_test])"
   ]
  },
  {
   "cell_type": "code",
   "execution_count": 4,
   "metadata": {},
   "outputs": [],
   "source": [
    "# One hot encoding for the targets.\n",
    "Y_train = np.eye(np.max(Y_train) + 1)[Y_train]\n",
    "Y_test = np.eye(np.max(Y_test) + 1)[Y_test]"
   ]
  },
  {
   "cell_type": "markdown",
   "metadata": {},
   "source": [
    "Features matrix $X$:\n",
    "\n",
    "$$\n",
    "X \\, (n \\times d)=\n",
    "\\begin{bmatrix}\n",
    "x_{1}^{T} \\\\\n",
    "x_{2}^{T} \\\\\n",
    "\\vdots \\\\\n",
    "x_{n}^{T}\n",
    "\\end{bmatrix}\n",
    ",\\ x_{i}\\, (d \\times 1)\n",
    "$$"
   ]
  },
  {
   "cell_type": "markdown",
   "metadata": {},
   "source": [
    "Targets matrix $Y$:\n",
    "\n",
    "$$\n",
    "Y \\, (n \\times t)=\n",
    "\\begin{bmatrix}\n",
    "y_{1}^{T} \\\\\n",
    "y_{2}^{T} \\\\\n",
    "\\vdots \\\\\n",
    "y_{n}^{T}\n",
    "\\end{bmatrix}\n",
    ",\\ y_{i}\\, (t \\times 1)\n",
    "$$"
   ]
  },
  {
   "cell_type": "markdown",
   "metadata": {},
   "source": [
    "Parameters matrix: $W \\, (d \\times t)$"
   ]
  },
  {
   "cell_type": "markdown",
   "metadata": {},
   "source": [
    "The model's prediction on each target is stored in matrix $Z$:\n",
    "\n",
    "$$\n",
    "Z \\, (n \\times t)=\n",
    "\\begin{bmatrix}\n",
    "z_{1}^{T} \\\\\n",
    "z_{2}^{T} \\\\\n",
    "\\vdots \\\\\n",
    "z_{n}^{T}\n",
    "\\end{bmatrix}\n",
    ",\\ z_{i}\\, (t \\times 1)\n",
    "$$\n",
    "\n",
    "$$\n",
    "where,\\ z_{i} = softmax(W^{T}x_{i})\n",
    "$$"
   ]
  },
  {
   "cell_type": "markdown",
   "metadata": {},
   "source": [
    "The targets given the features and the parameters follow a <b>Categorical</b> distribution.\n",
    "\n",
    "$$\n",
    "Cat(x \\mid \\theta) = \\prod_{j=1}^{C} \\theta_{j}^{x_{i}}\n",
    "$$"
   ]
  },
  {
   "cell_type": "markdown",
   "metadata": {},
   "source": [
    "<b>Maximize</b> the likelihood:\n",
    "\n",
    "$$\n",
    "\\begin{split}\n",
    "P(Y \\mid X, W) &= \\prod_{i=1}^{n} p(y_{n} \\mid x_{n}, W) \\\\\n",
    "&= \\prod_{i=1}^n \\prod_{j=1}^{t} z_{ij}^{y_{ij}}\n",
    "\\end{split}\n",
    "$$"
   ]
  },
  {
   "cell_type": "markdown",
   "metadata": {},
   "source": [
    "This is equivalent to <b>maximizing</b> the log likelihood:\n",
    "\n",
    "$$\n",
    "\\log P(Y \\mid X, W) = \\sum_{i=1}^{n} \\sum_{j=1}^{t} y_{ij} \\log z_{ij} \\\\\n",
    "$$"
   ]
  },
  {
   "cell_type": "markdown",
   "metadata": {},
   "source": [
    "Which is equivalent to <b>minimizing</b> the negative log likelihood (NLL):\n",
    "\n",
    "$$\n",
    "-\\log P(Y \\mid X, W) = -\\sum_{i=1}^{n} \\sum_{j=1}^{t} y_{ij} \\log z_{ij} \\\\\n",
    "$$"
   ]
  },
  {
   "cell_type": "markdown",
   "metadata": {},
   "source": [
    "Minimizing the NLL is equivalent to minimizing the <b>Cross Entropy</b>."
   ]
  },
  {
   "cell_type": "markdown",
   "metadata": {},
   "source": [
    "We can express the NLL in matrix form as:\n",
    "\n",
    "$$\n",
    "-trace \\lbrace{Y \\log Z^T}\\rbrace\n",
    "$$"
   ]
  },
  {
   "cell_type": "markdown",
   "metadata": {},
   "source": [
    "We need to derive the <b>gradient</b> of the NLL w.r.t. the parameters $W$.<br>\n",
    "We will start by unfolding the softmax operation:\n",
    "\n",
    "$$\n",
    "\\begin{split}\n",
    "NLL &= -\\sum_{i=1}^{n} \\sum_{j=1}^{t} y_{ij} \\log \\left( \\frac {\\exp( W_{j}^{T} x_{i} )} {\\sum_{j^{'}=1}^{t} \\exp( W_{j^{'}}^{T} x_{i} )} \\right) \\\\\n",
    "&= -\\sum_{i=1}^{n} \\sum_{j=1}^{t} \\left[ y_{ij} \\sum_{k=1}^{d} x_{ik}W_{kj} - y_{ij} \\log \\left( \\sum_{j^{'}=1}^{t} \\exp(\\sum_{k=1}^{d} x_{ik}W_{kj^{'}}) \\right) \\right]\n",
    "\\end{split}\n",
    "$$"
   ]
  },
  {
   "cell_type": "markdown",
   "metadata": {},
   "source": [
    "Derive the gradient of the NLL w.r.t. a parameter $W_{ef}$ .<br>\n",
    "For each term of the (double) sum:\n",
    "\n",
    "$$\n",
    "\\begin{equation}\n",
    "\\nabla_{W_{ef}} \\left[ y_{ij} \\sum_{k=1}^{d} x_{ik}W_{kj} \\right] =\n",
    "\\begin{cases}\n",
    "y_{if} x_{ie} ,\\ \\text{if } j=f \\\\\n",
    "0 ,\\ otherwise\n",
    "\\end{cases}\n",
    "\\end{equation}\n",
    "$$\n",
    "\n",
    "$$\n",
    "\\nabla_{W_{ef}} \\left[ y_{ij} \\log \\left( \\sum_{j^{'}=1}^{t} \\exp(\\sum_{k=1}^{d} x_{ik}W_{kj^{'}}) \\right) \\right] = y_{ij} z_{if} x_{ie}\n",
    "$$"
   ]
  },
  {
   "cell_type": "markdown",
   "metadata": {},
   "source": [
    "So, the NLL is:\n",
    "\n",
    "$$\n",
    "\\begin{split}\n",
    "\\nabla_{W_{ef}} NLL &= -\\sum_{i=1}^{n} \\sum_{j=1}^{t} y_{ij} x_{ie} \\left( [j=f] - z_{if} \\right) \\\\\n",
    "&= -\\sum_{i=1}^{n} \\left( y_{if} x_{ie} (1-z_{if}) - \\sum_{j \\neq f} y_{ij} x_{ie} z_{if} \\right) \\\\\n",
    "&= -\\sum_{i=1}^{n} x_{ie} (y_{if} - z_{if})\n",
    "\\end{split}\n",
    "$$"
   ]
  },
  {
   "cell_type": "markdown",
   "metadata": {},
   "source": [
    "Which can be expressed in matrix from as:\n",
    "\n",
    "$$\n",
    "-X_{e}^{T} (Y_{f} - Z_{f})\n",
    "$$\n",
    "\n",
    "$$\n",
    "\\text{where, } A_{m} \\, \\text{the } m \\, \\text{'th column of matrix} \\, A\n",
    "$$"
   ]
  },
  {
   "cell_type": "markdown",
   "metadata": {},
   "source": [
    "From this we can also derive the gradient w.r.t. parameters $W_{f}$ :\n",
    "\n",
    "$$\n",
    "\\nabla_{W_{f}} = -X^{T} (Y_{f} - Z_{f})\n",
    "$$"
   ]
  },
  {
   "cell_type": "markdown",
   "metadata": {},
   "source": [
    "And the gradient w.r.t. parameters $W$ :\n",
    "\n",
    "$$\n",
    "\\nabla_{W_{f}} = -X^{T} (Y - Z)\n",
    "$$"
   ]
  },
  {
   "cell_type": "markdown",
   "metadata": {},
   "source": [
    "<h3> <b> Stochastic gradient descent solution"
   ]
  },
  {
   "cell_type": "code",
   "execution_count": 5,
   "metadata": {},
   "outputs": [],
   "source": [
    "def get_batches_of_ixs(num_of_obs, batch_size):\n",
    "\n",
    "    shuffled_ixs = np.arange(0, num_of_obs, 1)\n",
    "    np.random.shuffle(shuffled_ixs)\n",
    "\n",
    "    batches_lims = np.arange(0, num_of_obs, batch_size)\n",
    "    batches_lims = np.append(batches_lims,num_of_obs)\n",
    "\n",
    "    batches = []\n",
    "\n",
    "    for i in range(batches_lims.shape[0] - 1):\n",
    "\n",
    "        start = batches_lims[i]\n",
    "        end = batches_lims[i+1]\n",
    "        batches.append(shuffled_ixs[start:end])\n",
    "\n",
    "    return batches, batches_lims\n",
    "\n",
    "def softmax(x):\n",
    "\n",
    "    return np.exp(x) / np.sum(np.exp(x), axis=1, keepdims=True)\n",
    "\n",
    "def compute_loss(X, Y, W):\n",
    "\n",
    "    Z = softmax(X @ W)\n",
    "\n",
    "    return -np.trace(Y @ np.log(Z).T)\n",
    "\n",
    "def compute_gradient(X, Y, W):\n",
    "\n",
    "    Z = softmax(X @ W)\n",
    "\n",
    "    return -X.T @ (Y - Z)\n",
    "\n",
    "def compute_score(X, Y, W):\n",
    "\n",
    "    Z = softmax(X @ W)\n",
    "    is_correct = np.argmax(Y, axis=1) == np.argmax(Z, axis=1)\n",
    "    acc = np.sum(is_correct) / is_correct.shape[0]\n",
    "    \n",
    "    return acc\n",
    "\n",
    "def train_with_sgd(X, Y, lr, epochs, batch_size):\n",
    "\n",
    "    W = np.random.rand(X.shape[1], Y.shape[1])\n",
    "    training_loss = []\n",
    "\n",
    "    for i in range(epochs):\n",
    "\n",
    "        batches_ixs, batches_lims = get_batches_of_ixs(X.shape[0], batch_size)\n",
    "        epoch_loss = 0\n",
    "\n",
    "        print(f\"-------- EPOCH {i+1} --------\")\n",
    "\n",
    "        for j in range(len(batches_ixs)):\n",
    "\n",
    "            batch_X = X[batches_ixs[j]]\n",
    "            batch_Y = Y[batches_ixs[j]]\n",
    "           \n",
    "            grad = compute_gradient(batch_X, batch_Y, W)\n",
    "            W -= lr * grad\n",
    "            \n",
    "            print(f\"BATCH {j+1} ({batches_lims[j+1]}/{X.shape[0]}) ...\")\n",
    "\n",
    "        epoch_loss = compute_loss(X, Y, W)\n",
    "        training_loss.append(epoch_loss)\n",
    "\n",
    "        print(f\"TRAINING LOSS FOR EPOCH {i+1} = {epoch_loss}\")\n",
    "        print(f\"TRAINING SCORE FOR EPOCH {i+1} = {compute_score(X, Y, W)}\")\n",
    "\n",
    "    return W, training_loss"
   ]
  },
  {
   "cell_type": "code",
   "execution_count": 6,
   "metadata": {},
   "outputs": [
    {
     "name": "stdout",
     "output_type": "stream",
     "text": [
      "-------- EPOCH 1 --------\n",
      "BATCH 1 (32/120) ...\n",
      "BATCH 2 (64/120) ...\n",
      "BATCH 3 (96/120) ...\n",
      "BATCH 4 (120/120) ...\n",
      "TRAINING LOSS FOR EPOCH 1 = 40.78423275543925\n",
      "TRAINING SCORE FOR EPOCH 1 = 0.8916666666666667\n",
      "-------- EPOCH 2 --------\n",
      "BATCH 1 (32/120) ...\n",
      "BATCH 2 (64/120) ...\n",
      "BATCH 3 (96/120) ...\n",
      "BATCH 4 (120/120) ...\n",
      "TRAINING LOSS FOR EPOCH 2 = 35.62231080391246\n",
      "TRAINING SCORE FOR EPOCH 2 = 0.8666666666666667\n",
      "-------- EPOCH 3 --------\n",
      "BATCH 1 (32/120) ...\n",
      "BATCH 2 (64/120) ...\n",
      "BATCH 3 (96/120) ...\n",
      "BATCH 4 (120/120) ...\n",
      "TRAINING LOSS FOR EPOCH 3 = 30.445948206797674\n",
      "TRAINING SCORE FOR EPOCH 3 = 0.9166666666666666\n",
      "-------- EPOCH 4 --------\n",
      "BATCH 1 (32/120) ...\n",
      "BATCH 2 (64/120) ...\n",
      "BATCH 3 (96/120) ...\n",
      "BATCH 4 (120/120) ...\n",
      "TRAINING LOSS FOR EPOCH 4 = 27.49748951932897\n",
      "TRAINING SCORE FOR EPOCH 4 = 0.9333333333333333\n",
      "-------- EPOCH 5 --------\n",
      "BATCH 1 (32/120) ...\n",
      "BATCH 2 (64/120) ...\n",
      "BATCH 3 (96/120) ...\n",
      "BATCH 4 (120/120) ...\n",
      "TRAINING LOSS FOR EPOCH 5 = 25.03619977943267\n",
      "TRAINING SCORE FOR EPOCH 5 = 0.95\n",
      "-------- EPOCH 6 --------\n",
      "BATCH 1 (32/120) ...\n",
      "BATCH 2 (64/120) ...\n",
      "BATCH 3 (96/120) ...\n",
      "BATCH 4 (120/120) ...\n",
      "TRAINING LOSS FOR EPOCH 6 = 23.184947701955032\n",
      "TRAINING SCORE FOR EPOCH 6 = 0.95\n",
      "-------- EPOCH 7 --------\n",
      "BATCH 1 (32/120) ...\n",
      "BATCH 2 (64/120) ...\n",
      "BATCH 3 (96/120) ...\n",
      "BATCH 4 (120/120) ...\n",
      "TRAINING LOSS FOR EPOCH 7 = 21.627607709577326\n",
      "TRAINING SCORE FOR EPOCH 7 = 0.975\n",
      "-------- EPOCH 8 --------\n",
      "BATCH 1 (32/120) ...\n",
      "BATCH 2 (64/120) ...\n",
      "BATCH 3 (96/120) ...\n",
      "BATCH 4 (120/120) ...\n",
      "TRAINING LOSS FOR EPOCH 8 = 20.435695152019882\n",
      "TRAINING SCORE FOR EPOCH 8 = 0.95\n",
      "-------- EPOCH 9 --------\n",
      "BATCH 1 (32/120) ...\n",
      "BATCH 2 (64/120) ...\n",
      "BATCH 3 (96/120) ...\n",
      "BATCH 4 (120/120) ...\n",
      "TRAINING LOSS FOR EPOCH 9 = 19.175448396482206\n",
      "TRAINING SCORE FOR EPOCH 9 = 0.9666666666666667\n",
      "-------- EPOCH 10 --------\n",
      "BATCH 1 (32/120) ...\n",
      "BATCH 2 (64/120) ...\n",
      "BATCH 3 (96/120) ...\n",
      "BATCH 4 (120/120) ...\n",
      "TRAINING LOSS FOR EPOCH 10 = 18.327912903610155\n",
      "TRAINING SCORE FOR EPOCH 10 = 0.9666666666666667\n"
     ]
    }
   ],
   "source": [
    "W, training_loss = train_with_sgd(X_train, Y_train, 0.05, 10, 32)"
   ]
  },
  {
   "cell_type": "code",
   "execution_count": 7,
   "metadata": {},
   "outputs": [
    {
     "data": {
      "image/png": "[encoded data removed]",
      "text/plain": [
       "<Figure size 1500x500 with 1 Axes>"
      ]
     },
     "metadata": {},
     "output_type": "display_data"
    }
   ],
   "source": [
    "epochs = list(range(len(training_loss)))\n",
    "\n",
    "fig, ax = plt.subplots(figsize=(15, 5))\n",
    "\n",
    "ax.plot(training_loss)\n",
    "ax.set_xlabel(\"Epoch\")\n",
    "ax.set_ylabel(\"Training Loss\")\n",
    "ax.set_xticks(epochs)\n",
    "\n",
    "plt.show()"
   ]
  },
  {
   "cell_type": "code",
   "execution_count": 8,
   "metadata": {},
   "outputs": [
    {
     "data": {
      "text/plain": [
       "0.9666666666666667"
      ]
     },
     "execution_count": 8,
     "metadata": {},
     "output_type": "execute_result"
    }
   ],
   "source": [
    "# Get the model's accuracy on the training data.\n",
    "compute_score(X_train, Y_train, W)"
   ]
  },
  {
   "cell_type": "code",
   "execution_count": 9,
   "metadata": {},
   "outputs": [
    {
     "data": {
      "text/plain": [
       "1.0"
      ]
     },
     "execution_count": 9,
     "metadata": {},
     "output_type": "execute_result"
    }
   ],
   "source": [
    "# Get the model's accuracy on the testing data.\n",
    "compute_score(X_test, Y_test, W)"
   ]
  },
  {
   "cell_type": "markdown",
   "metadata": {},
   "source": [
    "<h3> <b> Scikit-learn solution"
   ]
  },
  {
   "cell_type": "code",
   "execution_count": 10,
   "metadata": {},
   "outputs": [
    {
     "data": {
      "text/html": [
       "<style>#sk-container-id-1 {color: black;}#sk-container-id-1 pre{padding: 0;}#sk-container-id-1 div.sk-toggleable {background-color: white;}#sk-container-id-1 label.sk-toggleable__label {cursor: pointer;display: block;width: 100%;margin-bottom: 0;padding: 0.3em;box-sizing: border-box;text-align: center;}#sk-container-id-1 label.sk-toggleable__label-arrow:before {content: \"▸\";float: left;margin-right: 0.25em;color: #696969;}#sk-container-id-1 label.sk-toggleable__label-arrow:hover:before {color: black;}#sk-container-id-1 div.sk-estimator:hover label.sk-toggleable__label-arrow:before {color: black;}#sk-container-id-1 div.sk-toggleable__content {max-height: 0;max-width: 0;overflow: hidden;text-align: left;background-color: #f0f8ff;}#sk-container-id-1 div.sk-toggleable__content pre {margin: 0.2em;color: black;border-radius: 0.25em;background-color: #f0f8ff;}#sk-container-id-1 input.sk-toggleable__control:checked~div.sk-toggleable__content {max-height: 200px;max-width: 100%;overflow: auto;}#sk-container-id-1 input.sk-toggleable__control:checked~label.sk-toggleable__label-arrow:before {content: \"▾\";}#sk-container-id-1 div.sk-estimator input.sk-toggleable__control:checked~label.sk-toggleable__label {background-color: #d4ebff;}#sk-container-id-1 div.sk-label input.sk-toggleable__control:checked~label.sk-toggleable__label {background-color: #d4ebff;}#sk-container-id-1 input.sk-hidden--visually {border: 0;clip: rect(1px 1px 1px 1px);clip: rect(1px, 1px, 1px, 1px);height: 1px;margin: -1px;overflow: hidden;padding: 0;position: absolute;width: 1px;}#sk-container-id-1 div.sk-estimator {font-family: monospace;background-color: #f0f8ff;border: 1px dotted black;border-radius: 0.25em;box-sizing: border-box;margin-bottom: 0.5em;}#sk-container-id-1 div.sk-estimator:hover {background-color: #d4ebff;}#sk-container-id-1 div.sk-parallel-item::after {content: \"\";width: 100%;border-bottom: 1px solid gray;flex-grow: 1;}#sk-container-id-1 div.sk-label:hover label.sk-toggleable__label {background-color: #d4ebff;}#sk-container-id-1 div.sk-serial::before {content: \"\";position: absolute;border-left: 1px solid gray;box-sizing: border-box;top: 0;bottom: 0;left: 50%;z-index: 0;}#sk-container-id-1 div.sk-serial {display: flex;flex-direction: column;align-items: center;background-color: white;padding-right: 0.2em;padding-left: 0.2em;position: relative;}#sk-container-id-1 div.sk-item {position: relative;z-index: 1;}#sk-container-id-1 div.sk-parallel {display: flex;align-items: stretch;justify-content: center;background-color: white;position: relative;}#sk-container-id-1 div.sk-item::before, #sk-container-id-1 div.sk-parallel-item::before {content: \"\";position: absolute;border-left: 1px solid gray;box-sizing: border-box;top: 0;bottom: 0;left: 50%;z-index: -1;}#sk-container-id-1 div.sk-parallel-item {display: flex;flex-direction: column;z-index: 1;position: relative;background-color: white;}#sk-container-id-1 div.sk-parallel-item:first-child::after {align-self: flex-end;width: 50%;}#sk-container-id-1 div.sk-parallel-item:last-child::after {align-self: flex-start;width: 50%;}#sk-container-id-1 div.sk-parallel-item:only-child::after {width: 0;}#sk-container-id-1 div.sk-dashed-wrapped {border: 1px dashed gray;margin: 0 0.4em 0.5em 0.4em;box-sizing: border-box;padding-bottom: 0.4em;background-color: white;}#sk-container-id-1 div.sk-label label {font-family: monospace;font-weight: bold;display: inline-block;line-height: 1.2em;}#sk-container-id-1 div.sk-label-container {text-align: center;}#sk-container-id-1 div.sk-container {/* jupyter's `normalize.less` sets `[hidden] { display: none; }` but bootstrap.min.css set `[hidden] { display: none !important; }` so we also need the `!important` here to be able to override the default hidden behavior on the sphinx rendered scikit-learn.org. See: https://github.com/scikit-learn/scikit-learn/issues/21755 */display: inline-block !important;position: relative;}#sk-container-id-1 div.sk-text-repr-fallback {display: none;}</style><div id=\"sk-container-id-1\" class=\"sk-top-container\"><div class=\"sk-text-repr-fallback\"><pre>LogisticRegression()</pre><b>In a Jupyter environment, please rerun this cell to show the HTML representation or trust the notebook. <br />On GitHub, the HTML representation is unable to render, please try loading this page with nbviewer.org.</b></div><div class=\"sk-container\" hidden><div class=\"sk-item\"><div class=\"sk-estimator sk-toggleable\"><input class=\"sk-toggleable__control sk-hidden--visually\" id=\"sk-estimator-id-1\" type=\"checkbox\" checked><label for=\"sk-estimator-id-1\" class=\"sk-toggleable__label sk-toggleable__label-arrow\">LogisticRegression</label><div class=\"sk-toggleable__content\"><pre>LogisticRegression()</pre></div></div></div></div></div>"
      ],
      "text/plain": [
       "LogisticRegression()"
      ]
     },
     "execution_count": 10,
     "metadata": {},
     "output_type": "execute_result"
    }
   ],
   "source": [
    "logreg = LogisticRegression()\n",
    "logreg.fit(ori_X_train, ori_Y_train)"
   ]
  },
  {
   "cell_type": "code",
   "execution_count": 11,
   "metadata": {},
   "outputs": [
    {
     "data": {
      "text/plain": [
       "0.975"
      ]
     },
     "execution_count": 11,
     "metadata": {},
     "output_type": "execute_result"
    }
   ],
   "source": [
    "logreg.score(ori_X_train, ori_Y_train)"
   ]
  },
  {
   "cell_type": "code",
   "execution_count": 12,
   "metadata": {},
   "outputs": [
    {
     "data": {
      "text/plain": [
       "1.0"
      ]
     },
     "execution_count": 12,
     "metadata": {},
     "output_type": "execute_result"
    }
   ],
   "source": [
    "logreg.score(ori_X_test, ori_Y_test)"
   ]
  }
 ],
 "metadata": {
  "kernelspec": {
   "display_name": "DL",
   "language": "python",
   "name": "python3"
  },
  "language_info": {
   "codemirror_mode": {
    "name": "ipython",
    "version": 3
   },
   "file_extension": ".py",
   "mimetype": "text/x-python",
   "name": "python",
   "nbconvert_exporter": "python",
   "pygments_lexer": "ipython3",
   "version": "3.10.12"
  }
 },
 "nbformat": 4,
 "nbformat_minor": 2
}
